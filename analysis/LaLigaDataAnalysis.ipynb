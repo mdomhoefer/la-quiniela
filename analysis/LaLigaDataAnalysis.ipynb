{
 "cells": [
  {
   "cell_type": "code",
   "execution_count": 2,
   "source": [
    "import sqlite3"
   ],
   "outputs": [],
   "metadata": {}
  },
  {
   "cell_type": "code",
   "execution_count": 3,
   "source": [
    "import pandas as pd"
   ],
   "outputs": [],
   "metadata": {}
  },
  {
   "cell_type": "code",
   "execution_count": 4,
   "source": [
    "with sqlite3.connect(\"../laliga.sqlite\") as conn:\r\n",
    "    df = pd.read_sql(\"SELECT * FROM Matches\", con = conn) "
   ],
   "outputs": [],
   "metadata": {}
  },
  {
   "cell_type": "code",
   "execution_count": 5,
   "source": [
    "df.head()"
   ],
   "outputs": [
    {
     "output_type": "execute_result",
     "data": {
      "text/html": [
       "<div>\n",
       "<style scoped>\n",
       "    .dataframe tbody tr th:only-of-type {\n",
       "        vertical-align: middle;\n",
       "    }\n",
       "\n",
       "    .dataframe tbody tr th {\n",
       "        vertical-align: top;\n",
       "    }\n",
       "\n",
       "    .dataframe thead th {\n",
       "        text-align: right;\n",
       "    }\n",
       "</style>\n",
       "<table border=\"1\" class=\"dataframe\">\n",
       "  <thead>\n",
       "    <tr style=\"text-align: right;\">\n",
       "      <th></th>\n",
       "      <th>season</th>\n",
       "      <th>division</th>\n",
       "      <th>matchday</th>\n",
       "      <th>date</th>\n",
       "      <th>time</th>\n",
       "      <th>home_team</th>\n",
       "      <th>away_team</th>\n",
       "      <th>score</th>\n",
       "    </tr>\n",
       "  </thead>\n",
       "  <tbody>\n",
       "    <tr>\n",
       "      <th>0</th>\n",
       "      <td>1928-1929</td>\n",
       "      <td>1</td>\n",
       "      <td>1</td>\n",
       "      <td>2/10/29</td>\n",
       "      <td>None</td>\n",
       "      <td>Arenas Club</td>\n",
       "      <td>Athletic Madrid</td>\n",
       "      <td>2:3</td>\n",
       "    </tr>\n",
       "    <tr>\n",
       "      <th>1</th>\n",
       "      <td>1928-1929</td>\n",
       "      <td>1</td>\n",
       "      <td>1</td>\n",
       "      <td>2/10/29</td>\n",
       "      <td>None</td>\n",
       "      <td>Espanyol</td>\n",
       "      <td>Real Unión</td>\n",
       "      <td>3:2</td>\n",
       "    </tr>\n",
       "    <tr>\n",
       "      <th>2</th>\n",
       "      <td>1928-1929</td>\n",
       "      <td>1</td>\n",
       "      <td>1</td>\n",
       "      <td>2/10/29</td>\n",
       "      <td>None</td>\n",
       "      <td>Real Madrid</td>\n",
       "      <td>Catalunya</td>\n",
       "      <td>5:0</td>\n",
       "    </tr>\n",
       "    <tr>\n",
       "      <th>3</th>\n",
       "      <td>1928-1929</td>\n",
       "      <td>1</td>\n",
       "      <td>1</td>\n",
       "      <td>2/10/29</td>\n",
       "      <td>None</td>\n",
       "      <td>Donostia</td>\n",
       "      <td>Athletic</td>\n",
       "      <td>1:1</td>\n",
       "    </tr>\n",
       "    <tr>\n",
       "      <th>4</th>\n",
       "      <td>1928-1929</td>\n",
       "      <td>1</td>\n",
       "      <td>1</td>\n",
       "      <td>2/12/29</td>\n",
       "      <td>None</td>\n",
       "      <td>Racing</td>\n",
       "      <td>Barcelona</td>\n",
       "      <td>0:2</td>\n",
       "    </tr>\n",
       "  </tbody>\n",
       "</table>\n",
       "</div>"
      ],
      "text/plain": [
       "      season  division  matchday     date  time    home_team        away_team  \\\n",
       "0  1928-1929         1         1  2/10/29  None  Arenas Club  Athletic Madrid   \n",
       "1  1928-1929         1         1  2/10/29  None     Espanyol       Real Unión   \n",
       "2  1928-1929         1         1  2/10/29  None  Real Madrid        Catalunya   \n",
       "3  1928-1929         1         1  2/10/29  None     Donostia         Athletic   \n",
       "4  1928-1929         1         1  2/12/29  None       Racing        Barcelona   \n",
       "\n",
       "  score  \n",
       "0   2:3  \n",
       "1   3:2  \n",
       "2   5:0  \n",
       "3   1:1  \n",
       "4   0:2  "
      ]
     },
     "metadata": {},
     "execution_count": 5
    }
   ],
   "metadata": {}
  },
  {
   "cell_type": "code",
   "execution_count": 6,
   "source": [
    "df2 = df.loc[~df.score.isnull()]\r\n",
    "df2[\"score\"].head()"
   ],
   "outputs": [
    {
     "output_type": "execute_result",
     "data": {
      "text/plain": [
       "0    2:3\n",
       "1    3:2\n",
       "2    5:0\n",
       "3    1:1\n",
       "4    0:2\n",
       "Name: score, dtype: object"
      ]
     },
     "metadata": {},
     "execution_count": 6
    }
   ],
   "metadata": {}
  },
  {
   "cell_type": "code",
   "execution_count": 7,
   "source": [
    "def parse_score(score_as_string):\r\n",
    "home_goals, away goal = map(int, score_as_string.split(:))\r\n",
    "home_goals = int(home goals)\r\n",
    "away_goals = int(away goals) \r\n",
    "....\r\n",
    "if elif\r\n",
    "else\r\n"
   ],
   "outputs": [
    {
     "output_type": "error",
     "ename": "IndentationError",
     "evalue": "expected an indented block (<ipython-input-7-62b2e73fa20d>, line 2)",
     "traceback": [
      "\u001b[1;36m  File \u001b[1;32m\"<ipython-input-7-62b2e73fa20d>\"\u001b[1;36m, line \u001b[1;32m2\u001b[0m\n\u001b[1;33m    home hoals, away goal = map(int, score_as_string.split(:))\u001b[0m\n\u001b[1;37m       ^\u001b[0m\n\u001b[1;31mIndentationError\u001b[0m\u001b[1;31m:\u001b[0m expected an indented block\n"
     ]
    }
   ],
   "metadata": {}
  },
  {
   "cell_type": "code",
   "execution_count": null,
   "source": [
    "df[\"results\"] = df[\"score\"].apply(parse_score)"
   ],
   "outputs": [],
   "metadata": {}
  },
  {
   "cell_type": "code",
   "execution_count": null,
   "source": [
    "df[\"results\"].value_counts().plot(kind = pie) "
   ],
   "outputs": [],
   "metadata": {}
  },
  {
   "cell_type": "code",
   "execution_count": null,
   "source": [
    "#######8 features "
   ],
   "outputs": [],
   "metadata": {}
  },
  {
   "cell_type": "code",
   "execution_count": null,
   "source": [],
   "outputs": [],
   "metadata": {}
  }
 ],
 "metadata": {
  "kernelspec": {
   "name": "python3",
   "display_name": "Python 3.7.3 64-bit ('test_env': conda)"
  },
  "language_info": {
   "codemirror_mode": {
    "name": "ipython",
    "version": 3
   },
   "file_extension": ".py",
   "mimetype": "text/x-python",
   "name": "python",
   "nbconvert_exporter": "python",
   "pygments_lexer": "ipython3",
   "version": "3.7.3"
  },
  "interpreter": {
   "hash": "0b1ddee6c3d5f0b080ec3e31a4eae7aaffbde9d078a21af4fd200e8ed12115d5"
  }
 },
 "nbformat": 4,
 "nbformat_minor": 2
}